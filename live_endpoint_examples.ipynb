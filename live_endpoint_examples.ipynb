{
 "cells": [
  {
   "cell_type": "markdown",
   "metadata": {},
   "source": [
    "# Code to get AVERAGE SPEED / ACCELERATION"
   ]
  },
  {
   "cell_type": "code",
   "execution_count": 1,
   "metadata": {},
   "outputs": [
    {
     "name": "stdout",
     "output_type": "stream",
     "text": [
      "{'run_id': 'run_001', 'team_average_speed': 1.4576678577631912, 'team_average_acceleration': 0.18341438240936792}\n"
     ]
    }
   ],
   "source": [
    "# Client code\n",
    "import requests\n",
    "\n",
    "# Base URL for the FastAPI app\n",
    "base_url = \"http://localhost:8000\"\n",
    "num_players = 3  # Number of players\n",
    "run_id = \"run_001\"  # Run ID\n",
    "\n",
    "# Construct the URL with path parameters\n",
    "url = f\"{base_url}/get-team-average-stats/{num_players}/{run_id}\"\n",
    "\n",
    "# Make the GET request\n",
    "response = requests.get(url)\n",
    "\n",
    "# Process the response\n",
    "if response.status_code == 200:\n",
    "    data = response.json()\n",
    "    print(data)\n",
    "else:\n",
    "    print(\"Error:\", response.status_code, response.text)"
   ]
  },
  {
   "cell_type": "markdown",
   "metadata": {},
   "source": [
    "# Code to get AVERAGE TEMPERATURE / HEART Rate"
   ]
  },
  {
   "cell_type": "code",
   "execution_count": 2,
   "metadata": {},
   "outputs": [
    {
     "name": "stdout",
     "output_type": "stream",
     "text": [
      "{'run_id': 'run_001', 'team_average_heart_rate': 125.66666666666667, 'team_average_temperature': 38.3}\n"
     ]
    }
   ],
   "source": [
    "import requests\n",
    "\n",
    "# API endpoint configuration\n",
    "BASE_URL = \"http://127.0.0.1:8000\"\n",
    "ENDPOINT = \"/get-team-kafka-stats/{num_players}/{run_id}\"\n",
    "\n",
    "# Parameters\n",
    "num_players = 3\n",
    "run_id = \"run_001\"\n",
    "\n",
    "# Build the full URL\n",
    "url = BASE_URL + ENDPOINT.format(num_players=num_players, run_id=run_id)\n",
    "\n",
    "try:\n",
    "    # Make the GET request\n",
    "    response = requests.get(url)\n",
    "\n",
    "    # Check the response status code\n",
    "    if response.status_code == 200:\n",
    "        data = response.json()\n",
    "        print(data)  # Print the response JSON\n",
    "    else:\n",
    "        print(f\"Failed to fetch data. Status code: {response.status_code}, Error: {response.text}\")\n",
    "except Exception as e:\n",
    "    print(f\"An error occurred: {e}\")\n"
   ]
  },
  {
   "cell_type": "markdown",
   "metadata": {},
   "source": [
    "# Code to get ALARM for HEART RATE"
   ]
  },
  {
   "cell_type": "code",
   "execution_count": 5,
   "metadata": {},
   "outputs": [
    {
     "name": "stdout",
     "output_type": "stream",
     "text": [
      "{'run_id': 'run_001', 'analyzed_data': [{'device_id': 'player_heart_rate_1', 'heart_rate': 88, 'alarm_type': 'normal', 'timestamp': '2024-12-10T17:40:45.523639'}, {'device_id': 'player_heart_rate_2', 'heart_rate': 123, 'alarm_type': 'normal', 'timestamp': '2024-12-10T17:40:45.259818'}, {'device_id': 'player_heart_rate_3', 'heart_rate': 116, 'alarm_type': 'normal', 'timestamp': '2024-12-10T17:40:45.570671'}]}\n"
     ]
    }
   ],
   "source": [
    "import requests\n",
    "\n",
    "# API endpoint configuration\n",
    "BASE_URL = \"http://127.0.0.1:8000\"\n",
    "ENDPOINT = \"/analyze-heart-rate/{num_players}/{run_id}\"\n",
    "\n",
    "# Parameters\n",
    "num_players = 3\n",
    "run_id = \"run_001\"\n",
    "\n",
    "# Build the full URL\n",
    "url = BASE_URL + ENDPOINT.format(num_players=num_players, run_id=run_id)\n",
    "\n",
    "try:\n",
    "    # Make the GET request\n",
    "    response = requests.get(url)\n",
    "\n",
    "    # Check the response status code\n",
    "    if response.status_code == 200:\n",
    "        data = response.json()\n",
    "        print(data)\n",
    "    else:\n",
    "        print(f\"Failed to fetch data. Status code: {response.status_code}, Error: {response.text}\")\n",
    "except Exception as e:\n",
    "    print(f\"An error occurred: {e}\")\n"
   ]
  }
 ],
 "metadata": {
  "kernelspec": {
   "display_name": "base",
   "language": "python",
   "name": "python3"
  },
  "language_info": {
   "codemirror_mode": {
    "name": "ipython",
    "version": 3
   },
   "file_extension": ".py",
   "mimetype": "text/x-python",
   "name": "python",
   "nbconvert_exporter": "python",
   "pygments_lexer": "ipython3",
   "version": "3.9.18"
  }
 },
 "nbformat": 4,
 "nbformat_minor": 2
}
