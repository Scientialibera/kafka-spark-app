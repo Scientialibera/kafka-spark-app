{
 "cells": [
  {
   "cell_type": "markdown",
   "metadata": {},
   "source": [
    "# Code to START STREAM"
   ]
  },
  {
   "cell_type": "code",
   "execution_count": 30,
   "metadata": {},
   "outputs": [
    {
     "name": "stdout",
     "output_type": "stream",
     "text": [
      "Success: {'message': 'Synthetic data stream started.'}\n"
     ]
    }
   ],
   "source": [
    "import requests\n",
    "\n",
    "# Endpoint URL\n",
    "url = \"http://localhost:8000/start-synthetic-data\"\n",
    "\n",
    "# Payload\n",
    "payload = {\n",
    "    \"num_players\": 10,  # Replace with the desired number of players\n",
    "    \"stream_seconds\": 50  # Replace with the desired stream duration\n",
    "}\n",
    "\n",
    "# Sending POST Request\n",
    "response = requests.post(url, params=payload)\n",
    "\n",
    "# Print Response\n",
    "if response.status_code == 200:\n",
    "    print(\"Success:\", response.json())\n",
    "else:\n",
    "    print(\"Error:\", response.status_code, response.text)\n"
   ]
  },
  {
   "cell_type": "markdown",
   "metadata": {},
   "source": [
    "# Code to get AVERAGE SPEED / ACCELERATION"
   ]
  },
  {
   "cell_type": "code",
   "execution_count": 31,
   "metadata": {},
   "outputs": [
    {
     "name": "stdout",
     "output_type": "stream",
     "text": [
      "{'run_id': 'run_001', 'team_average_speed': 2.171549669012153, 'team_average_acceleration': -0.73626435100348}\n"
     ]
    }
   ],
   "source": [
    "# Client code\n",
    "import requests\n",
    "\n",
    "# Base URL for the FastAPI app\n",
    "base_url = \"http://localhost:8000\"\n",
    "num_players = 3  # Number of players\n",
    "run_id = \"run_001\"  # Run ID\n",
    "\n",
    "# Construct the URL with path parameters\n",
    "url = f\"{base_url}/get-team-average-stats/{num_players}/{run_id}\"\n",
    "\n",
    "# Make the GET request\n",
    "response = requests.get(url)\n",
    "\n",
    "# Process the response\n",
    "if response.status_code == 200:\n",
    "    data = response.json()\n",
    "    print(data)\n",
    "else:\n",
    "    print(\"Error:\", response.status_code, response.text)"
   ]
  },
  {
   "cell_type": "markdown",
   "metadata": {},
   "source": [
    "# Code to get AVERAGE TEMPERATURE / HEART Rate"
   ]
  },
  {
   "cell_type": "code",
   "execution_count": 32,
   "metadata": {},
   "outputs": [
    {
     "name": "stdout",
     "output_type": "stream",
     "text": [
      "{'run_id': 'run_001', 'team_average_heart_rate': 118.0, 'team_average_temperature': 37.96666666666666}\n"
     ]
    }
   ],
   "source": [
    "import requests\n",
    "\n",
    "# API endpoint configuration\n",
    "BASE_URL = \"http://127.0.0.1:8000\"\n",
    "ENDPOINT = \"/get-team-kafka-stats/{num_players}/{run_id}\"\n",
    "\n",
    "# Parameters\n",
    "num_players = 3\n",
    "run_id = \"run_001\"\n",
    "\n",
    "# Build the full URL\n",
    "url = BASE_URL + ENDPOINT.format(num_players=num_players, run_id=run_id)\n",
    "\n",
    "try:\n",
    "    # Make the GET request\n",
    "    response = requests.get(url)\n",
    "\n",
    "    # Check the response status code\n",
    "    if response.status_code == 200:\n",
    "        data = response.json()\n",
    "        print(data)  # Print the response JSON\n",
    "    else:\n",
    "        print(f\"Failed to fetch data. Status code: {response.status_code}, Error: {response.text}\")\n",
    "except Exception as e:\n",
    "    print(f\"An error occurred: {e}\")\n"
   ]
  },
  {
   "cell_type": "markdown",
   "metadata": {},
   "source": [
    "# Code to get ALARM for HEART RATE"
   ]
  },
  {
   "cell_type": "code",
   "execution_count": 33,
   "metadata": {},
   "outputs": [
    {
     "name": "stdout",
     "output_type": "stream",
     "text": [
      "{'run_id': 'run_001', 'analyzed_data': [{'device_id': 'player_heart_rate_1', 'heart_rate': 102, 'alarm_type': 'normal', 'timestamp': '2024-12-12T18:05:29.771678'}, {'device_id': 'player_heart_rate_2', 'heart_rate': 80, 'alarm_type': 'normal', 'timestamp': '2024-12-12T18:05:29.822486'}, {'device_id': 'player_heart_rate_3', 'heart_rate': 125, 'alarm_type': 'normal', 'timestamp': '2024-12-12T18:05:29.983439'}]}\n"
     ]
    }
   ],
   "source": [
    "import requests\n",
    "\n",
    "# API endpoint configuration\n",
    "BASE_URL = \"http://127.0.0.1:8000\"\n",
    "ENDPOINT = \"/analyze-heart-rate/{num_players}/{run_id}\"\n",
    "\n",
    "# Parameters\n",
    "num_players = 3\n",
    "run_id = \"run_001\"\n",
    "\n",
    "# Build the full URL\n",
    "url = BASE_URL + ENDPOINT.format(num_players=num_players, run_id=run_id)\n",
    "\n",
    "try:\n",
    "    # Make the GET request\n",
    "    response = requests.get(url)\n",
    "\n",
    "    # Check the response status code\n",
    "    if response.status_code == 200:\n",
    "        data = response.json()\n",
    "        print(data)\n",
    "    else:\n",
    "        print(f\"Failed to fetch data. Status code: {response.status_code}, Error: {response.text}\")\n",
    "except Exception as e:\n",
    "    print(f\"An error occurred: {e}\")\n"
   ]
  },
  {
   "cell_type": "markdown",
   "metadata": {},
   "source": [
    "# Code to get INSTANT GPS LOCATION"
   ]
  },
  {
   "cell_type": "code",
   "execution_count": 34,
   "metadata": {},
   "outputs": [
    {
     "name": "stdout",
     "output_type": "stream",
     "text": [
      "{\n",
      "    \"device_id\": \"gps_1\",\n",
      "    \"run_id\": \"run_001\",\n",
      "    \"messages\": [\n",
      "        {\n",
      "            \"latitude\": 40.000462,\n",
      "            \"longitude\": -75.000545,\n",
      "            \"timestamp\": \"2024-12-12T18:05:33.288986\"\n",
      "        }\n",
      "    ]\n",
      "}\n",
      "{\n",
      "    \"device_id\": \"gps_2\",\n",
      "    \"run_id\": \"run_001\",\n",
      "    \"messages\": [\n",
      "        {\n",
      "            \"latitude\": 40.000447,\n",
      "            \"longitude\": -75.000547,\n",
      "            \"timestamp\": \"2024-12-12T18:05:33.300193\"\n",
      "        }\n",
      "    ]\n",
      "}\n",
      "{\n",
      "    \"device_id\": \"gps_3\",\n",
      "    \"run_id\": \"run_001\",\n",
      "    \"messages\": [\n",
      "        {\n",
      "            \"latitude\": 40.000515,\n",
      "            \"longitude\": -75.00053,\n",
      "            \"timestamp\": \"2024-12-12T18:05:33.301820\"\n",
      "        }\n",
      "    ]\n",
      "}\n"
     ]
    }
   ],
   "source": [
    "import requests\n",
    "import json\n",
    "from concurrent.futures import ThreadPoolExecutor, as_completed\n",
    "\n",
    "# Define the number of players and the run you want to check\n",
    "num_players = 3  # Example: get GPS data for players 1 through 3\n",
    "run = \"run_001\"\n",
    "limit = 1  # Fetch the latest messages with this limit\n",
    "base_url = \"http://127.0.0.1:8000/get-topic-messages/{device_id}/{run_id}?limit={limit}\"\n",
    "\n",
    "# Function to make the request and process the response\n",
    "def fetch_kafka_messages(device_id, run_id, limit):\n",
    "    url = base_url.format(device_id=device_id, run_id=run_id, limit=limit)\n",
    "    try:\n",
    "        # Make the request to the FastAPI endpoint\n",
    "        response = requests.get(url)\n",
    "        # Check the status of the response\n",
    "        if response.status_code == 200:\n",
    "            response_json = response.json()\n",
    "            return response_json  # Return the entire response JSON\n",
    "        else:\n",
    "            print(f\"Error for {device_id}/{run_id}: {response.status_code}, {response.text}\")\n",
    "            return None\n",
    "    except Exception as e:\n",
    "        print(f\"An error occurred for {device_id}/{run_id}: {e}\")\n",
    "        return None\n",
    "\n",
    "# Main function to run the requests concurrently\n",
    "def main():\n",
    "    # Generate the device ids based on the number of players\n",
    "    device_ids = [f\"gps_{i}\" for i in range(1, num_players + 1)]\n",
    "\n",
    "    # Use ThreadPoolExecutor to run requests concurrently\n",
    "    with ThreadPoolExecutor(max_workers=5) as executor:\n",
    "        # Submit tasks to the executor for each player\n",
    "        futures = {executor.submit(fetch_kafka_messages, device_id, run, limit): device_id for device_id in device_ids}\n",
    "        \n",
    "        for future in as_completed(futures):\n",
    "            device_id = futures[future]\n",
    "            try:\n",
    "                response_data = future.result()\n",
    "                if response_data:\n",
    "                    print(json.dumps(response_data, indent=4))\n",
    "                else:\n",
    "                    print(f\"No data returned for {device_id}/{run}.\")\n",
    "            except Exception as exc:\n",
    "                print(f\"An error occurred for {device_id}/{run}: {exc}\")\n",
    "\n",
    "# Run the main function\n",
    "if __name__ == \"__main__\":\n",
    "    main()\n"
   ]
  }
 ],
 "metadata": {
  "kernelspec": {
   "display_name": "Python 3",
   "language": "python",
   "name": "python3"
  },
  "language_info": {
   "codemirror_mode": {
    "name": "ipython",
    "version": 3
   },
   "file_extension": ".py",
   "mimetype": "text/x-python",
   "name": "python",
   "nbconvert_exporter": "python",
   "pygments_lexer": "ipython3",
   "version": "3.9.12"
  }
 },
 "nbformat": 4,
 "nbformat_minor": 2
}
